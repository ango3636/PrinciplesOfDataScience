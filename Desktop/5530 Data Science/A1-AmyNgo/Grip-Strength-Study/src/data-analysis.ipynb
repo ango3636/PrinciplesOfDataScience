{
 "cells": [
  {
   "cell_type": "markdown",
   "metadata": {},
   "source": [
    "# Code block to execute in one click"
   ]
  },
  {
   "cell_type": "code",
   "execution_count": null,
   "metadata": {},
   "outputs": [],
   "source": [
    "import pandas as pd\n",
    "import numpy as np\n",
    "import os\n",
    "\n",
    "from scipy.stats import ttest_ind\n",
    "\n",
    "# read in clean data\n",
    "clean_grip_data = pd.read_csv(\"/Users/amyngo/Desktop/5530 Data Science/A1-AmyNgo/Grip-Strength-Study/data-clean/clean_grip_data.csv\")\n",
    "\n",
    "# perform t-test\n",
    "# Is there a significant difference of grip strength for woman of different ages?\n",
    "column1 = clean_grip_data['Grip strength']\n",
    "column2 = clean_grip_data['Age']\n",
    "\n",
    "t_stat, p_value = ttest_ind(column1, column2)\n",
    "output_text = f\"T-statistic: {t_stat}\\nP-value: {p_value}\"\n",
    "\n",
    "# write test result to txt file\n",
    "folder_path = \"/Users/amyngo/Desktop/5530 Data Science/A1-AmyNgo/Grip-Strength-Study/results\"\n",
    "\n",
    "file_path = os.path.join(folder_path, \"t_test_results.txt\")\n",
    "with open(file_path, \"w\") as file:\n",
    "    file.write(\"Is there a significant difference of grip strength for woman of different ages?\\n\" + output_text)"
   ]
  },
  {
   "cell_type": "markdown",
   "metadata": {},
   "source": [
    "Code step by step"
   ]
  },
  {
   "cell_type": "code",
   "execution_count": 2,
   "metadata": {
    "dotnet_interactive": {
     "language": "csharp"
    },
    "polyglot_notebook": {
     "kernelName": "csharp"
    }
   },
   "outputs": [],
   "source": [
    "import pandas as pd\n",
    "import numpy as np\n",
    "\n",
    "from scipy.stats import ttest_ind"
   ]
  },
  {
   "cell_type": "code",
   "execution_count": 4,
   "metadata": {},
   "outputs": [
    {
     "data": {
      "text/html": [
       "<div>\n",
       "<style scoped>\n",
       "    .dataframe tbody tr th:only-of-type {\n",
       "        vertical-align: middle;\n",
       "    }\n",
       "\n",
       "    .dataframe tbody tr th {\n",
       "        vertical-align: top;\n",
       "    }\n",
       "\n",
       "    .dataframe thead th {\n",
       "        text-align: right;\n",
       "    }\n",
       "</style>\n",
       "<table border=\"1\" class=\"dataframe\">\n",
       "  <thead>\n",
       "    <tr style=\"text-align: right;\">\n",
       "      <th></th>\n",
       "      <th>Height</th>\n",
       "      <th>Weight</th>\n",
       "      <th>Age</th>\n",
       "      <th>Grip strength</th>\n",
       "      <th>Frailty</th>\n",
       "    </tr>\n",
       "  </thead>\n",
       "  <tbody>\n",
       "    <tr>\n",
       "      <th>0</th>\n",
       "      <td>68.2</td>\n",
       "      <td>142</td>\n",
       "      <td>22</td>\n",
       "      <td>28</td>\n",
       "      <td>Y</td>\n",
       "    </tr>\n",
       "    <tr>\n",
       "      <th>1</th>\n",
       "      <td>67.8</td>\n",
       "      <td>144</td>\n",
       "      <td>29</td>\n",
       "      <td>24</td>\n",
       "      <td>Y</td>\n",
       "    </tr>\n",
       "    <tr>\n",
       "      <th>2</th>\n",
       "      <td>69.8</td>\n",
       "      <td>141</td>\n",
       "      <td>51</td>\n",
       "      <td>22</td>\n",
       "      <td>Y</td>\n",
       "    </tr>\n",
       "    <tr>\n",
       "      <th>3</th>\n",
       "      <td>70.1</td>\n",
       "      <td>136</td>\n",
       "      <td>23</td>\n",
       "      <td>20</td>\n",
       "      <td>Y</td>\n",
       "    </tr>\n",
       "  </tbody>\n",
       "</table>\n",
       "</div>"
      ],
      "text/plain": [
       "   Height  Weight  Age  Grip strength Frailty\n",
       "0    68.2     142   22             28       Y\n",
       "1    67.8     144   29             24       Y\n",
       "2    69.8     141   51             22       Y\n",
       "3    70.1     136   23             20       Y"
      ]
     },
     "execution_count": 4,
     "metadata": {},
     "output_type": "execute_result"
    }
   ],
   "source": [
    "clean_grip_data = pd.read_csv(\"/Users/amyngo/Desktop/5530 Data Science/A1-AmyNgo/Grip-Strength-Study/data-clean/clean_grip_data.csv\")\n",
    "clean_grip_data"
   ]
  },
  {
   "cell_type": "code",
   "execution_count": 5,
   "metadata": {},
   "outputs": [
    {
     "data": {
      "text/plain": [
       "'T-statistic: -1.1111658325806488\\nP-value: 0.3090295183230276'"
      ]
     },
     "execution_count": 5,
     "metadata": {},
     "output_type": "execute_result"
    }
   ],
   "source": [
    "#Is there a significant difference of grip strength for woman of different ages?\n",
    "column1 = clean_grip_data['Grip strength']\n",
    "column2 = clean_grip_data['Age']\n",
    "\n",
    "t_stat, p_value = ttest_ind(column1, column2)\n",
    "output_text = f\"T-statistic: {t_stat}\\nP-value: {p_value}\"\n",
    "output_text"
   ]
  },
  {
   "cell_type": "code",
   "execution_count": 6,
   "metadata": {},
   "outputs": [],
   "source": [
    "import os\n",
    "\n",
    "folder_path = \"/Users/amyngo/Desktop/5530 Data Science/A1-AmyNgo/Grip-Strength-Study/results\"\n",
    "\n",
    "file_path = os.path.join(folder_path, \"t_test_results.txt\")\n",
    "with open(file_path, \"w\") as file:\n",
    "    file.write(\"Is there a significant difference of grip strength for woman of different ages?\\n\" + output_text)"
   ]
  }
 ],
 "metadata": {
  "kernelspec": {
   "display_name": "Python 3",
   "language": "python",
   "name": "python3"
  },
  "language_info": {
   "codemirror_mode": {
    "name": "ipython",
    "version": 3
   },
   "file_extension": ".py",
   "mimetype": "text/x-python",
   "name": "python",
   "nbconvert_exporter": "python",
   "pygments_lexer": "ipython3",
   "version": "3.13.2"
  },
  "polyglot_notebook": {
   "kernelInfo": {
    "defaultKernelName": "csharp",
    "items": [
     {
      "aliases": [],
      "name": "csharp"
     }
    ]
   }
  }
 },
 "nbformat": 4,
 "nbformat_minor": 2
}
